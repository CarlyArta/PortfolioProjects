{
 "cells": [
  {
   "cell_type": "markdown",
   "id": "0d699979-a6dd-4e1a-8402-0e8c29eab86f",
   "metadata": {},
   "source": [
    "# Project 09\n",
    "## - Police dataset -\n",
    "### By: Carly Marshanda Arta MS"
   ]
  },
  {
   "cell_type": "code",
   "execution_count": null,
   "id": "ba3553b5-5538-4d29-bec5-6b6acff437a9",
   "metadata": {},
   "outputs": [],
   "source": []
  },
  {
   "cell_type": "markdown",
   "id": "c5997797-c3fe-442d-8e38-5788fbb622fd",
   "metadata": {},
   "source": [
    "# - END -"
   ]
  }
 ],
 "metadata": {
  "kernelspec": {
   "display_name": "Python 3 (ipykernel)",
   "language": "python",
   "name": "python3"
  },
  "language_info": {
   "codemirror_mode": {
    "name": "ipython",
    "version": 3
   },
   "file_extension": ".py",
   "mimetype": "text/x-python",
   "name": "python",
   "nbconvert_exporter": "python",
   "pygments_lexer": "ipython3",
   "version": "3.12.4"
  }
 },
 "nbformat": 4,
 "nbformat_minor": 5
}
