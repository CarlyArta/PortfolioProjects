{
 "cells": [
  {
   "cell_type": "markdown",
   "id": "4bc5cd83-edc3-42e7-9931-0478379eff0e",
   "metadata": {},
   "source": [
    "# Project 5\n",
    "# - Data Visualization with Tableau -\n",
    "### By: Carly Marshanda Arta MS"
   ]
  },
  {
   "cell_type": "code",
   "execution_count": null,
   "id": "27bd183b-38b4-40d2-9667-ad5e2b949e93",
   "metadata": {},
   "outputs": [],
   "source": [
    "import pandas as pd"
   ]
  },
  {
   "cell_type": "code",
   "execution_count": null,
   "id": "12b751c7-503c-4078-ba75-a33523062fed",
   "metadata": {},
   "outputs": [],
   "source": []
  }
 ],
 "metadata": {
  "kernelspec": {
   "display_name": "Python 3 (ipykernel)",
   "language": "python",
   "name": "python3"
  },
  "language_info": {
   "codemirror_mode": {
    "name": "ipython",
    "version": 3
   },
   "file_extension": ".py",
   "mimetype": "text/x-python",
   "name": "python",
   "nbconvert_exporter": "python",
   "pygments_lexer": "ipython3",
   "version": "3.12.4"
  }
 },
 "nbformat": 4,
 "nbformat_minor": 5
}
