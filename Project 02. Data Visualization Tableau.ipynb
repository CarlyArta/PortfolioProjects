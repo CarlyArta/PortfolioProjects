{
 "cells": [
  {
   "cell_type": "markdown",
   "id": "a2851220-20b1-41bd-b0b7-74ed096743b3",
   "metadata": {},
   "source": [
    "# Project 02\n",
    "# - Data Visualization with Tableau -\n",
    "### By: Carly Marshanda Arta MS"
   ]
  },
  {
   "cell_type": "code",
   "execution_count": null,
   "id": "b0a15765-e75c-4c43-aa88-7bd4f3d4153c",
   "metadata": {},
   "outputs": [],
   "source": []
  }
 ],
 "metadata": {
  "kernelspec": {
   "display_name": "Python 3 (ipykernel)",
   "language": "python",
   "name": "python3"
  },
  "language_info": {
   "codemirror_mode": {
    "name": "ipython",
    "version": 3
   },
   "file_extension": ".py",
   "mimetype": "text/x-python",
   "name": "python",
   "nbconvert_exporter": "python",
   "pygments_lexer": "ipython3",
   "version": "3.12.4"
  }
 },
 "nbformat": 4,
 "nbformat_minor": 5
}
